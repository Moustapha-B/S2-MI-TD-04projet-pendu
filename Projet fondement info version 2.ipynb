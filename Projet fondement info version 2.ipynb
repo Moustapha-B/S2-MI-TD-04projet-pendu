{
 "cells": [
  {
   "cell_type": "code",
   "execution_count": null,
   "metadata": {},
   "outputs": [],
   "source": [
    "import random\n",
    "import tkinter as tk"
   ]
  },
  {
   "cell_type": "code",
   "execution_count": null,
   "metadata": {},
   "outputs": [],
   "source": [
    "\n",
    "# Mots à deviner\n",
    "\n",
    "liste= [\"France\",\"Allemagne\",\"Espagne\",\"Belgique\",\"Portugal\"]\n",
    "n=random.randint(0,len(liste)-1)\n",
    "mot= liste[n]\n",
    "\n",
    "\n",
    "# fonctions\n",
    "\n",
    "def erreur():\n",
    "    indice=0\n",
    "    erreur=0\n",
    "    while erreur<7:\n",
    "        lettre=input(\"Entrez une lettre\")\n",
    "        if lettre not in mot:\n",
    "            erreur+=1\n",
    "        else:\n",
    "            for l_du_mot in mot:\n",
    "                if lettre !=l_du_mot:\n",
    "                    indice+=1\n",
    "                print(indice)\n",
    "            #demasquer le mot a lindice\n",
    "print(mot)\n",
    "erreur()\n",
    "        \n",
    "def fermer_fenetre():\n",
    "    fenetre.destroy()\n",
    "\n",
    "\n",
    "#interface\n",
    "fenetre = tk.Tk()\n",
    "fenetre.title(\"Pendu\")\n",
    "\n",
    "bouton_quitter = tk.Button(fenetre, text=\"quitter\", command=fermer_fenetre)\n",
    "bouton_quitter.pack()\n",
    "\n",
    "label = tk.Label(fenetre,text=len(mot)*\"*\")\n",
    "label.pack()\n",
    "\n",
    "\n",
    "fenetre.mainloop()"
   ]
  }
 ],
 "metadata": {
  "kernelspec": {
   "display_name": "base",
   "language": "python",
   "name": "python3"
  },
  "language_info": {
   "codemirror_mode": {
    "name": "ipython",
    "version": 3
   },
   "file_extension": ".py",
   "mimetype": "text/x-python",
   "name": "python",
   "nbconvert_exporter": "python",
   "pygments_lexer": "ipython3",
   "version": "3.11.4"
  }
 },
 "nbformat": 4,
 "nbformat_minor": 2
}
